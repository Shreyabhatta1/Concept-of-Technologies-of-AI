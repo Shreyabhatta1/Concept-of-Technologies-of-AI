{
  "nbformat": 4,
  "nbformat_minor": 0,
  "metadata": {
    "colab": {
      "provenance": [],
      "toc_visible": true
    },
    "kernelspec": {
      "name": "python3",
      "display_name": "Python 3"
    },
    "language_info": {
      "name": "python"
    }
  },
  "cells": [
    {
      "cell_type": "markdown",
      "source": [
        "Problem 1"
      ],
      "metadata": {
        "id": "iBmihjYRjwE7"
      }
    },
    {
      "cell_type": "code",
      "source": [
        "#Name:Shreya Bhatta\n",
        "#Un Id:2408994"
      ],
      "metadata": {
        "id": "e_J8GPo4sSXa"
      },
      "execution_count": null,
      "outputs": []
    },
    {
      "cell_type": "markdown",
      "source": [
        "Problem 1"
      ],
      "metadata": {
        "id": "rIJD_GIbsg6J"
      }
    },
    {
      "cell_type": "code",
      "source": [
        "#Task1\n",
        "import numpy as np\n",
        "empty_arr = np.zeros((2,2))\n",
        "print(empty_arr)"
      ],
      "metadata": {
        "colab": {
          "base_uri": "https://localhost:8080/"
        },
        "id": "Ix1wY9CGjzvt",
        "outputId": "1667cac5-23ef-482d-b5e3-3315684a5295"
      },
      "execution_count": 1,
      "outputs": [
        {
          "output_type": "stream",
          "name": "stdout",
          "text": [
            "[[0. 0.]\n",
            " [0. 0.]]\n"
          ]
        }
      ]
    },
    {
      "cell_type": "code",
      "source": [
        "#Task2\n",
        "empty_Arr2=np.zeros((4,2))\n",
        "print(empty_Arr2)"
      ],
      "metadata": {
        "colab": {
          "base_uri": "https://localhost:8080/"
        },
        "id": "F-YYjcf-jwcZ",
        "outputId": "c40cdb0e-4ee8-49c0-f733-f0845757afe8"
      },
      "execution_count": 2,
      "outputs": [
        {
          "output_type": "stream",
          "name": "stdout",
          "text": [
            "[[0. 0.]\n",
            " [0. 0.]\n",
            " [0. 0.]\n",
            " [0. 0.]]\n"
          ]
        }
      ]
    },
    {
      "cell_type": "code",
      "source": [
        "#TAsk3\n",
        "array_full=np.full(2,2)\n",
        "print(array_full)"
      ],
      "metadata": {
        "colab": {
          "base_uri": "https://localhost:8080/"
        },
        "id": "vbXuzsPVkcus",
        "outputId": "5fc49619-93b3-4ea1-902e-7d372230b6ab"
      },
      "execution_count": 3,
      "outputs": [
        {
          "output_type": "stream",
          "name": "stdout",
          "text": [
            "[2 2]\n"
          ]
        }
      ]
    },
    {
      "cell_type": "code",
      "source": [
        "#Task4\n",
        "zeros_arr= np.zeros([2,2])\n",
        "print(zeros_arr)"
      ],
      "metadata": {
        "colab": {
          "base_uri": "https://localhost:8080/"
        },
        "id": "mFPYvkBukdCc",
        "outputId": "d0135ff7-8041-4e17-84de-71f7e0336ef1"
      },
      "execution_count": 4,
      "outputs": [
        {
          "output_type": "stream",
          "name": "stdout",
          "text": [
            "[[0. 0.]\n",
            " [0. 0.]]\n"
          ]
        }
      ]
    },
    {
      "cell_type": "code",
      "source": [
        "#TAsk5\n",
        "ones_Arr=np.ones([2,2])\n",
        "print(ones_Arr)"
      ],
      "metadata": {
        "colab": {
          "base_uri": "https://localhost:8080/"
        },
        "id": "3aBAE117kdQd",
        "outputId": "5ff14195-495a-483b-e8c2-9539a30fa8bb"
      },
      "execution_count": 34,
      "outputs": [
        {
          "output_type": "stream",
          "name": "stdout",
          "text": [
            "[[1. 1.]\n",
            " [1. 1.]]\n"
          ]
        }
      ]
    },
    {
      "cell_type": "code",
      "source": [
        "#TAsk6\n",
        "new_list=[1,2,3,4]\n",
        "array = np.array(new_list)\n",
        "print(array)"
      ],
      "metadata": {
        "colab": {
          "base_uri": "https://localhost:8080/"
        },
        "id": "81Q0Uwy-lf-U",
        "outputId": "dd97b915-bc39-4f59-acac-2fb2ac5d1ccb"
      },
      "execution_count": 6,
      "outputs": [
        {
          "output_type": "stream",
          "name": "stdout",
          "text": [
            "[1 2 3 4]\n"
          ]
        }
      ]
    },
    {
      "cell_type": "markdown",
      "source": [
        "Problem2"
      ],
      "metadata": {
        "id": "_oyO7ma5llYk"
      }
    },
    {
      "cell_type": "code",
      "source": [
        "#Task1\n",
        "array_2 = np.arange(10,50)\n",
        "print(array_2)"
      ],
      "metadata": {
        "colab": {
          "base_uri": "https://localhost:8080/"
        },
        "id": "Zkw1y0SGlqfH",
        "outputId": "4bed6170-1eba-4503-9faa-42e3db2e30e5"
      },
      "execution_count": 7,
      "outputs": [
        {
          "output_type": "stream",
          "name": "stdout",
          "text": [
            "[10 11 12 13 14 15 16 17 18 19 20 21 22 23 24 25 26 27 28 29 30 31 32 33\n",
            " 34 35 36 37 38 39 40 41 42 43 44 45 46 47 48 49]\n"
          ]
        }
      ]
    },
    {
      "cell_type": "code",
      "source": [
        "#Task2\n",
        "array_3 = np.array([0,1,2,3,4,5,6,7,8])\n",
        "new = array_3.reshape(3,3)\n",
        "print(new)"
      ],
      "metadata": {
        "colab": {
          "base_uri": "https://localhost:8080/"
        },
        "id": "eRGkT6mrlqtv",
        "outputId": "4b0d7aee-cc10-4a15-aa9e-44e636eab4bb"
      },
      "execution_count": 8,
      "outputs": [
        {
          "output_type": "stream",
          "name": "stdout",
          "text": [
            "[[0 1 2]\n",
            " [3 4 5]\n",
            " [6 7 8]]\n"
          ]
        }
      ]
    },
    {
      "cell_type": "code",
      "source": [
        "#TAsk3\n",
        "identity = np.eye(3,3)\n",
        "print(identity)"
      ],
      "metadata": {
        "colab": {
          "base_uri": "https://localhost:8080/"
        },
        "id": "rB0gA5volqxV",
        "outputId": "05760e69-96d7-47b1-9703-f9d0b6e99b8a"
      },
      "execution_count": 9,
      "outputs": [
        {
          "output_type": "stream",
          "name": "stdout",
          "text": [
            "[[1. 0. 0.]\n",
            " [0. 1. 0.]\n",
            " [0. 0. 1.]]\n"
          ]
        }
      ]
    },
    {
      "cell_type": "code",
      "source": [
        "#Task4\n",
        "random_array = np.random.random(30)\n",
        "mean_value = random_array.mean()\n",
        "print(\"Random array:\", random_array)\n",
        "print(\"Mean of the array:\", mean_value)\n",
        "\n",
        "\n"
      ],
      "metadata": {
        "colab": {
          "base_uri": "https://localhost:8080/"
        },
        "id": "7ygP2cihlq2c",
        "outputId": "69149d11-d9d0-41bd-d9c4-93d56a0fb9a3"
      },
      "execution_count": 10,
      "outputs": [
        {
          "output_type": "stream",
          "name": "stdout",
          "text": [
            "Random array: [0.36892735 0.54745702 0.3082596  0.33210107 0.56717426 0.95776365\n",
            " 0.35926706 0.11862839 0.05514417 0.98766619 0.85896113 0.70613486\n",
            " 0.8099849  0.78932579 0.68932972 0.44199053 0.70587339 0.117199\n",
            " 0.1374111  0.38469694 0.56664095 0.94558472 0.79844148 0.62176324\n",
            " 0.31871908 0.32974743 0.62968867 0.48134597 0.83768365 0.40709793]\n",
            "Mean of the array: 0.5393336412841225\n"
          ]
        }
      ]
    },
    {
      "cell_type": "code",
      "source": [
        "#Task5\n",
        "import numpy as np\n",
        "random_array = np.random.random((10, 10))\n",
        "min_value = np.min(random_array)\n",
        "max_value = np.max(random_array)\n",
        "print(\"Random Array:\")\n",
        "print(random_array)\n",
        "print(\"\\nMinimum Value:\", min_value)\n",
        "print(\"Maximum Value:\", max_value)\n"
      ],
      "metadata": {
        "colab": {
          "base_uri": "https://localhost:8080/"
        },
        "id": "zrusk6Wflq56",
        "outputId": "06224dfd-780a-4472-de72-0f05c20e9658"
      },
      "execution_count": 11,
      "outputs": [
        {
          "output_type": "stream",
          "name": "stdout",
          "text": [
            "Random Array:\n",
            "[[0.46953838 0.0257005  0.40897827 0.17994132 0.56345878 0.05674834\n",
            "  0.46505494 0.09328917 0.25052673 0.8928302 ]\n",
            " [0.39830449 0.19971708 0.45645238 0.60093358 0.56358476 0.77297142\n",
            "  0.45763463 0.89314435 0.81622764 0.17560089]\n",
            " [0.22343241 0.17346003 0.08672353 0.71219462 0.32522087 0.6687749\n",
            "  0.14489097 0.91868841 0.48741501 0.15019628]\n",
            " [0.3063566  0.77016812 0.36595879 0.42843988 0.17002524 0.59469145\n",
            "  0.81425087 0.21831619 0.55696464 0.53835623]\n",
            " [0.96492504 0.7354155  0.14092309 0.47081803 0.57688692 0.40697815\n",
            "  0.30580294 0.96538618 0.5271904  0.07571275]\n",
            " [0.28567374 0.05771866 0.74328653 0.77698681 0.06002395 0.75428692\n",
            "  0.50113209 0.90603925 0.24477937 0.50557806]\n",
            " [0.64525829 0.71167754 0.66569294 0.72796883 0.8912001  0.07374349\n",
            "  0.21185025 0.6915861  0.63447183 0.45192441]\n",
            " [0.29299071 0.8537105  0.95768891 0.37038393 0.11092872 0.15044258\n",
            "  0.53063067 0.41748267 0.42615192 0.83240493]\n",
            " [0.73738018 0.51305997 0.9483712  0.08493796 0.38227026 0.61963551\n",
            "  0.14166769 0.07220796 0.45350649 0.42754735]\n",
            " [0.87018684 0.67448255 0.4206798  0.4340547  0.47811308 0.23859865\n",
            "  0.48858639 0.50000939 0.9209018  0.22756284]]\n",
            "\n",
            "Minimum Value: 0.025700499304780577\n",
            "Maximum Value: 0.9653861831454759\n"
          ]
        }
      ]
    },
    {
      "cell_type": "code",
      "source": [
        "#Task6\n",
        "zero_array = np.zeros(10)\n",
        "zero_array[4] = 1\n",
        "print(zero_array)\n"
      ],
      "metadata": {
        "colab": {
          "base_uri": "https://localhost:8080/"
        },
        "id": "dlxLrdGVl59w",
        "outputId": "f3039ff0-1c0d-4d4b-ae1b-baf4164585f0"
      },
      "execution_count": 12,
      "outputs": [
        {
          "output_type": "stream",
          "name": "stdout",
          "text": [
            "[0. 0. 0. 0. 1. 0. 0. 0. 0. 0.]\n"
          ]
        }
      ]
    },
    {
      "cell_type": "code",
      "source": [
        "#Task7\n",
        "arr = np.array([1, 2, 0, 0, 4, 0])\n",
        "reversed_arr = arr[::-1]\n",
        "print(reversed_arr)\n"
      ],
      "metadata": {
        "colab": {
          "base_uri": "https://localhost:8080/"
        },
        "id": "uIOCbUhbl6Ht",
        "outputId": "9ce45845-9ffb-43d4-d7f9-a91cbb8d262e"
      },
      "execution_count": 13,
      "outputs": [
        {
          "output_type": "stream",
          "name": "stdout",
          "text": [
            "[0 4 0 0 2 1]\n"
          ]
        }
      ]
    },
    {
      "cell_type": "code",
      "source": [
        "#Task8\n",
        "import numpy as np\n",
        "array=np.ones((5,5))\n",
        "#set the inner elements to 0\n",
        "array[1:-1, 1:-1]=0\n",
        "print(array)"
      ],
      "metadata": {
        "colab": {
          "base_uri": "https://localhost:8080/"
        },
        "id": "w4oJTowjmbML",
        "outputId": "4a54b09e-ac40-4a38-f32d-0b8c529121e6"
      },
      "execution_count": 35,
      "outputs": [
        {
          "output_type": "stream",
          "name": "stdout",
          "text": [
            "[[1. 1. 1. 1. 1.]\n",
            " [1. 0. 0. 0. 1.]\n",
            " [1. 0. 0. 0. 1.]\n",
            " [1. 0. 0. 0. 1.]\n",
            " [1. 1. 1. 1. 1.]]\n"
          ]
        }
      ]
    },
    {
      "cell_type": "code",
      "source": [
        "#TAsk9\n",
        "#Creating an 8** Numpy array filled with zeros and setting alternate elements to 1 to create a checkerboard pattern\n",
        "array=np.zeros((8,8) ,dtype=int)\n",
        "#Setting alternate rows starting from the second row with alternate columns to 1\n",
        "array[1::2, ::2]=1\n",
        "#Setting alternate rows starting from the first row with alternate columns to 1\n",
        "array[::2, 1::2]=1\n",
        "print(array)\n"
      ],
      "metadata": {
        "colab": {
          "base_uri": "https://localhost:8080/"
        },
        "id": "kL1xxQmAmV8Z",
        "outputId": "1c7f3c5c-c8d8-4643-dbfb-d2d61460bf9b"
      },
      "execution_count": 36,
      "outputs": [
        {
          "output_type": "stream",
          "name": "stdout",
          "text": [
            "[[0 1 0 1 0 1 0 1]\n",
            " [1 0 1 0 1 0 1 0]\n",
            " [0 1 0 1 0 1 0 1]\n",
            " [1 0 1 0 1 0 1 0]\n",
            " [0 1 0 1 0 1 0 1]\n",
            " [1 0 1 0 1 0 1 0]\n",
            " [0 1 0 1 0 1 0 1]\n",
            " [1 0 1 0 1 0 1 0]]\n"
          ]
        }
      ]
    },
    {
      "cell_type": "markdown",
      "source": [
        "Problem2"
      ],
      "metadata": {
        "id": "1P3NAin1m-eC"
      }
    },
    {
      "cell_type": "code",
      "source": [
        "\n",
        "x = np.array([[1, 2], [3, 5]])\n",
        "y = np.array([[5, 6], [7, 8]])\n",
        "v = np.array([9, 10])\n",
        "w = np.array([11, 12])"
      ],
      "metadata": {
        "id": "vew20UPImWBs"
      },
      "execution_count": 15,
      "outputs": []
    },
    {
      "cell_type": "code",
      "source": [
        "# Task-1\n",
        "add = x + y\n",
        "add2 = w + v\n",
        "print(\"Addition1:\\n\", add)\n",
        "print(\"Addition2:\\n\", add2)"
      ],
      "metadata": {
        "colab": {
          "base_uri": "https://localhost:8080/"
        },
        "id": "NoDM86QOmWFJ",
        "outputId": "6dc4a6f1-2a2b-4d93-f8a7-424f4d62c03a"
      },
      "execution_count": 26,
      "outputs": [
        {
          "output_type": "stream",
          "name": "stdout",
          "text": [
            "Addition1:\n",
            " [[ 6  8]\n",
            " [10 13]]\n",
            "Addition2:\n",
            " [20 22]\n"
          ]
        }
      ]
    },
    {
      "cell_type": "code",
      "source": [
        "#Task2\n",
        "sub = x-y\n",
        "sub2= w-v\n",
        "print(\"Subtraction1:\\n\", sub)\n",
        "print(\"Subtraction2:\\n\", sub2)"
      ],
      "metadata": {
        "colab": {
          "base_uri": "https://localhost:8080/"
        },
        "id": "cmyvJNY0nZLj",
        "outputId": "2ca7f302-a3d3-43e6-c104-750905e01651"
      },
      "execution_count": 27,
      "outputs": [
        {
          "output_type": "stream",
          "name": "stdout",
          "text": [
            "Subtraction1:\n",
            " [[-4 -4]\n",
            " [-4 -3]]\n",
            "Subtraction2:\n",
            " [2 2]\n"
          ]
        }
      ]
    },
    {
      "cell_type": "code",
      "source": [
        "#Task3\n",
        "new_x = x*2\n",
        "new_y = y*3\n",
        "new_v = v*4\n",
        "new_w = w*5\n",
        "print(\"X:\\n\", new_x)\n",
        "print(\"Y:\\n\", new_y)\n",
        "print(\"V:\\n\", new_v)\n",
        "print(\"Z:\\n\", new_w)"
      ],
      "metadata": {
        "colab": {
          "base_uri": "https://localhost:8080/"
        },
        "id": "Oym_H6wQnZOh",
        "outputId": "043909af-f65a-4dd7-c605-66937fcd4c6a"
      },
      "execution_count": 28,
      "outputs": [
        {
          "output_type": "stream",
          "name": "stdout",
          "text": [
            "X:\n",
            " [[ 2  4]\n",
            " [ 6 10]]\n",
            "Y:\n",
            " [[15 18]\n",
            " [21 24]]\n",
            "V:\n",
            " [36 40]\n",
            "Z:\n",
            " [55 60]\n"
          ]
        }
      ]
    },
    {
      "cell_type": "code",
      "source": [
        "#Task-4\n",
        "x = np.array([[1, 2], [3, 5]])\n",
        "y = np.array([[5, 6], [7, 8]])\n",
        "v = np.array([9, 10])\n",
        "w = np.array([11, 12])\n",
        "sqrt_x = np.sqrt(x)\n",
        "sqrt_y = np.sqrt(y)\n",
        "sqrt_v = np.sqrt(v)\n",
        "sqrt_w = np.sqrt(w)\n",
        "\n",
        "print(\"Square root of x:\\n\", sqrt_x)\n",
        "print(\"Square root of y:\\n\", sqrt_y)\n",
        "print(\"Square root of v:\\n\", sqrt_v)\n",
        "print(\"Square root of w:\\n\", sqrt_w)"
      ],
      "metadata": {
        "colab": {
          "base_uri": "https://localhost:8080/"
        },
        "id": "0aewuSg4nZSB",
        "outputId": "e5355704-9892-4101-f57c-ca5874eeff69"
      },
      "execution_count": 29,
      "outputs": [
        {
          "output_type": "stream",
          "name": "stdout",
          "text": [
            "Square root of x:\n",
            " [[1.         1.41421356]\n",
            " [1.73205081 2.23606798]]\n",
            "Square root of y:\n",
            " [[2.23606798 2.44948974]\n",
            " [2.64575131 2.82842712]]\n",
            "Square root of v:\n",
            " [3.         3.16227766]\n",
            "Square root of w:\n",
            " [3.31662479 3.46410162]\n"
          ]
        }
      ]
    },
    {
      "cell_type": "code",
      "source": [
        "#Task-5\n",
        "dot_v_w=np.dot(v,w)\n",
        "dot_x_v=np.dot(x,v)\n",
        "dot_x_y=np.dot(x,y)\n",
        "print(\"Dot product of v and w arrays:\\n\", dot_v_w)\n",
        "print(\"Dot product of x and v arrays:\\n\", dot_x_v)\n",
        "print(\"Dot product of x and y arrays:\\n\", dot_x_y)"
      ],
      "metadata": {
        "colab": {
          "base_uri": "https://localhost:8080/"
        },
        "id": "4Qb233EVq0pA",
        "outputId": "2eb50c68-bec2-4e98-dd4e-3a84ee79a986"
      },
      "execution_count": 30,
      "outputs": [
        {
          "output_type": "stream",
          "name": "stdout",
          "text": [
            "Dot product of v and w arrays:\n",
            " 219\n",
            "Dot product of x and v arrays:\n",
            " [29 77]\n",
            "Dot product of x and y arrays:\n",
            " [[19 22]\n",
            " [50 58]]\n"
          ]
        }
      ]
    },
    {
      "cell_type": "code",
      "source": [
        "#Task-6\n",
        "\n",
        "array_v_w = np.stack((v, w), axis=0)\n",
        "print(\"Stacked v and w arrays:\\n\", array_v_w)\n",
        "\n",
        "\n",
        "array_x_y = np.vstack((x, y))\n",
        "print(\"Stacked x and y arrays (vertically):\\n\", array_x_y)"
      ],
      "metadata": {
        "colab": {
          "base_uri": "https://localhost:8080/"
        },
        "id": "52L0Q4tdq008",
        "outputId": "4de8b5a9-6f7f-46c2-8db8-a828f601640c"
      },
      "execution_count": 31,
      "outputs": [
        {
          "output_type": "stream",
          "name": "stdout",
          "text": [
            "Stacked v and w arrays:\n",
            " [[ 9 10]\n",
            " [11 12]]\n",
            "Stacked x and y arrays (vertically):\n",
            " [[1 2]\n",
            " [3 5]\n",
            " [5 6]\n",
            " [7 8]]\n"
          ]
        }
      ]
    },
    {
      "cell_type": "code",
      "source": [
        "\n"
      ],
      "metadata": {
        "id": "8_jSROVcq1Ci"
      },
      "execution_count": null,
      "outputs": []
    },
    {
      "cell_type": "markdown",
      "source": [
        "Problem 4"
      ],
      "metadata": {
        "id": "JizIcj7NrLaG"
      }
    },
    {
      "cell_type": "code",
      "source": [
        "#Task-1\n",
        "A = np.array([[3, 4], [7, 8]])\n",
        "\n",
        "\n",
        "A_inv = np.linalg.inv(A)\n",
        "\n",
        "\n",
        "result = np.dot(A, A_inv)\n",
        "\n",
        "print(\"A * A_inv = \\n\", result)\n",
        "\n",
        "\n",
        "I = np.eye(2)\n",
        "\n",
        "print(\"\\nIdentity matrix I:\\n\", I)\n",
        "print(\"\\nIs A * A_inv approximately equal to I? \", np.allclose(result, I))"
      ],
      "metadata": {
        "colab": {
          "base_uri": "https://localhost:8080/"
        },
        "id": "ptPQ7svkrUZ-",
        "outputId": "d82268b9-190b-478c-f959-59e215d6489f"
      },
      "execution_count": 32,
      "outputs": [
        {
          "output_type": "stream",
          "name": "stdout",
          "text": [
            "A * A_inv = \n",
            " [[1.00000000e+00 0.00000000e+00]\n",
            " [1.77635684e-15 1.00000000e+00]]\n",
            "\n",
            "Identity matrix I:\n",
            " [[1. 0.]\n",
            " [0. 1.]]\n",
            "\n",
            "Is A * A_inv approximately equal to I?  True\n"
          ]
        }
      ]
    },
    {
      "cell_type": "code",
      "source": [
        "#task-2\n",
        "A = np.array([[3, 4], [7, 8]])\n",
        "B = np.array([[5, 3], [2, 1]])\n",
        "\n",
        "# Compute the product AB\n",
        "AB = np.dot(A, B)\n",
        "\n",
        "# Compute the product BA\n",
        "BA = np.dot(B, A)\n",
        "\n",
        "# Print the results\n",
        "print(\"AB = \\n\", AB)\n",
        "print(\"\\nBA = \\n\", BA)\n",
        "\n",
        "# Verify if AB is equal to BA\n",
        "print(\"\\nIs AB equal to BA? \", np.array_equal(AB, BA))"
      ],
      "metadata": {
        "colab": {
          "base_uri": "https://localhost:8080/"
        },
        "id": "A9KA4tFrrf42",
        "outputId": "e5f2d03a-2dc7-47dc-9a34-84e1d3eb234d"
      },
      "execution_count": 33,
      "outputs": [
        {
          "output_type": "stream",
          "name": "stdout",
          "text": [
            "AB = \n",
            " [[23 13]\n",
            " [51 29]]\n",
            "\n",
            "BA = \n",
            " [[36 44]\n",
            " [13 16]]\n",
            "\n",
            "Is AB equal to BA?  False\n"
          ]
        }
      ]
    },
    {
      "cell_type": "code",
      "source": [
        "#TAsk3\n",
        "AB_transpose = np.transpose(AB)\n",
        "BT_AT = np.dot(B.T,A.T)\n",
        "print(\"\\n(AB)^T:\")\n",
        "print(AB_transpose)\n",
        "print(\"\\nB^T * A^T:\")\n",
        "print(BT_AT)\n",
        "\n",
        "#Solve the system of linear equation using Inverse methods.\n",
        "#Represent the equations in matrix form AX = B\n",
        "A_linear = np.array([[2,-3,1], [1,-1,2], [3,1,-1]])\n",
        "B_linear = np.array([-1,-3,9]).reshape(-1,1)\n",
        "\n",
        "#Solve for x using inverse method\n",
        "A_linear_inv = np.linalg.inv(A_linear)\n",
        "X_solution = np.dot(A_linear_inv,B_linear)\n",
        "print(\"\\nSolution to the system of linear equations:\")\n",
        "print(X_solution)"
      ],
      "metadata": {
        "colab": {
          "base_uri": "https://localhost:8080/"
        },
        "id": "IbV8yj8f6bJ1",
        "outputId": "796f91f5-2d1d-4db5-a567-b8b0ee8ddac7"
      },
      "execution_count": 51,
      "outputs": [
        {
          "output_type": "stream",
          "name": "stdout",
          "text": [
            "\n",
            "(AB)^T:\n",
            "[[23 51]\n",
            " [13 29]]\n",
            "\n",
            "B^T * A^T:\n",
            "[[23 51]\n",
            " [13 29]]\n",
            "\n",
            "Solution to the system of linear equations:\n",
            "[[ 2.]\n",
            " [ 1.]\n",
            " [-2.]]\n"
          ]
        }
      ]
    },
    {
      "cell_type": "code",
      "source": [
        "import time\n",
        "import numpy as np\n",
        "\n",
        "# 1. Element-wise Addition\n",
        "size = 1_000_000\n",
        "\n",
        "# Python Lists\n",
        "list1 = [i for i in range(size)]\n",
        "list2 = [i for i in range(size)]\n",
        "start = time.time()\n",
        "result_list_add = [list1[i] + list2[i] for i in range(size)]\n",
        "time_list_add = time.time() - start\n",
        "\n",
        "# Numpy Arrays\n",
        "array1 = np.arange(size)\n",
        "array2 = np.arange(size)\n",
        "start = time.time()\n",
        "result_array_add = array1 + array2\n",
        "time_array_add = time.time() - start\n",
        "\n",
        "# 2. Element-wise Multiplication\n",
        "\n",
        "# Python Lists\n",
        "start = time.time()\n",
        "result_list_mul = [list1[i] * list2[i] for i in range(size)]\n",
        "time_list_mul = time.time() - start\n",
        "\n",
        "# Numpy Arrays\n",
        "start = time.time()\n",
        "result_array_mul = array1 * array2\n",
        "time_array_mul = time.time() - start\n",
        "\n",
        "# 3. Dot Product\n",
        "\n",
        "# Python Lists\n",
        "start = time.time()\n",
        "result_list_dot = sum(list1[i] * list2[i] for i in range(size))\n",
        "time_list_dot = time.time() - start\n",
        "\n",
        "# Numpy Arrays\n",
        "start = time.time()\n",
        "result_array_dot = np.dot(array1, array2)\n",
        "time_array_dot = time.time() - start\n",
        "\n",
        "# 4. Matrix Multiplication\n",
        "matrix_size = 300  # Smaller size for Python lists\n",
        "matrix1 = [[i for i in range(matrix_size)] for _ in range(matrix_size)]\n",
        "matrix2 = [[i for i in range(matrix_size)] for _ in range(matrix_size)]\n",
        "\n",
        "# Python Lists - Matrix Multiplication\n",
        "start = time.time()\n",
        "result_matrix_mul = [\n",
        "    [sum(matrix1[i][k] * matrix2[k][j] for k in range(matrix_size)) for j in range(matrix_size)]\n",
        "    for i in range(matrix_size)\n",
        "]\n",
        "time_matrix_mul = time.time() - start\n",
        "\n",
        "# NumPy Arrays - Matrix Multiplication\n",
        "matrix_array1 = np.arange(1000**2).reshape(1000, 1000)\n",
        "matrix_array2 = np.arange(1000**2).reshape(1000, 1000)\n",
        "start = time.time()\n",
        "result_array_matrix_mul = np.dot(matrix_array1, matrix_array2)\n",
        "time_array_matrix_mul = time.time() - start\n",
        "\n",
        "# Results\n",
        "print(f\"Element-wise Addition: Python Lists: {time_list_add:.6f}s, NumPy Arrays: {time_array_add:.6f}s\")\n",
        "print(f\"Element-wise Multiplication: Python Lists: {time_list_mul:.6f}s, NumPy Arrays: {time_array_mul:.6f}s\")\n",
        "print(f\"Dot Product: Python Lists: {time_list_dot:.6f}s, NumPy Arrays: {time_array_dot:.6f}s\")\n",
        "print(f\"Matrix Multiplication: Python Lists (300x300): {time_matrix_mul:.6f}s, NumPy Arrays (1000x1000): {time_array_matrix_mul:.6f}s\")"
      ],
      "metadata": {
        "colab": {
          "base_uri": "https://localhost:8080/"
        },
        "id": "anWDGUIt6p1z",
        "outputId": "2642a6c0-ad1b-4de9-e7e9-087b441246f6"
      },
      "execution_count": 41,
      "outputs": [
        {
          "output_type": "stream",
          "name": "stdout",
          "text": [
            "Element-wise Addition: Python Lists: 0.297483s, NumPy Arrays: 0.005657s\n",
            "Element-wise Multiplication: Python Lists: 0.310408s, NumPy Arrays: 0.006266s\n",
            "Dot Product: Python Lists: 0.273698s, NumPy Arrays: 0.002171s\n",
            "Matrix Multiplication: Python Lists (300x300): 5.304622s, NumPy Arrays (1000x1000): 1.733263s\n"
          ]
        }
      ]
    }
  ]
}