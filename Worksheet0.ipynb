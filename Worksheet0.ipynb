{
  "nbformat": 4,
  "nbformat_minor": 0,
  "metadata": {
    "colab": {
      "provenance": [],
      "toc_visible": true
    },
    "kernelspec": {
      "name": "python3",
      "display_name": "Python 3"
    },
    "language_info": {
      "name": "python"
    }
  },
  "cells": [
    {
      "cell_type": "code",
      "execution_count": 1,
      "metadata": {
        "colab": {
          "base_uri": "https://localhost:8080/"
        },
        "id": "k7l8n0OEQ6eA",
        "outputId": "937fbae3-d03f-416c-ce12-3ad74fbd0323"
      },
      "outputs": [
        {
          "output_type": "stream",
          "name": "stdout",
          "text": [
            "Cold Temperatures: [8.2, 7.9, 9.0, 8.5, 7.7, 8.4, 9.5, 8.1, 7.6, 8.0, 7.8, 8.7, 9.2, 8.3, 8.9, 7.8]\n",
            "Mild Temperatures: [14.1, 13.5, 13.0, 12.9, 13.3, 14.0, 13.4, 14.2, 12.8, 13.7, 13.6, 13.8, 13.9, 12.7, 13.1, 12.5]\n",
            "Comfortable Temperatures: [17.4, 18.0, 17.8, 16.5, 17.2, 16.7, 18.3, 17.9, 17.0, 16.8, 17.5, 17.1, 18.1, 16.4, 18.2, 16.6]\n"
          ]
        }
      ],
      "source": [
        "#Name:Shreya Bhatta\n",
        "#Un Id:2408994\n",
        "# Given temperature data\n",
        "temperatures = [\n",
        "    8.2, 17.4, 14.1, 7.9, 18.0, 13.5, 9.0, 17.8, 13.0, 8.5,\n",
        "    16.5, 12.9, 7.7, 17.2, 13.3, 8.4, 16.7, 14.0, 9.5, 18.3,\n",
        "    13.4, 8.1, 17.9, 14.2, 7.6, 17.0, 12.8, 8.0, 16.8, 13.7,\n",
        "    7.8, 17.5, 13.6, 8.7, 17.1, 13.8, 9.2, 18.1, 13.9, 8.3,\n",
        "    16.4, 12.7, 8.9, 18.2, 13.1, 7.8, 16.6, 12.5\n",
        "]\n",
        "\n",
        "# Initialize empty lists for temperature classifications\n",
        "cold = []\n",
        "mild = []\n",
        "comfortable = []\n",
        "\n",
        "# Iterate through the temperature data and classify them\n",
        "for temp in temperatures:\n",
        "    if temp < 10:\n",
        "        cold.append(temp)\n",
        "    elif 10 <= temp < 15:\n",
        "        mild.append(temp)\n",
        "    elif 15 <= temp < 20:\n",
        "        comfortable.append(temp)\n",
        "\n",
        "# Print the results\n",
        "print(\"Cold Temperatures:\", cold)\n",
        "print(\"Mild Temperatures:\", mild)\n",
        "print(\"Comfortable Temperatures:\", comfortable)\n"
      ]
    },
    {
      "cell_type": "code",
      "source": [
        "# Counting the occurrences\n",
        "count_mild = len(mild)\n",
        "count_comfortable = len(comfortable)\n",
        "count_cold = len(cold)\n",
        "\n",
        "# Printing the counts\n",
        "print(\"Number of Mild temperatures:\", count_mild)\n",
        "print(\"Number of Comfortable temperatures:\", count_comfortable)\n",
        "print(\"Number of Cold temperatures:\", count_cold)\n"
      ],
      "metadata": {
        "colab": {
          "base_uri": "https://localhost:8080/"
        },
        "id": "bwQg7iZVSzc9",
        "outputId": "cf1a194e-6470-492d-d29d-3e744216725f"
      },
      "execution_count": 2,
      "outputs": [
        {
          "output_type": "stream",
          "name": "stdout",
          "text": [
            "Number of Mild temperatures: 16\n",
            "Number of Comfortable temperatures: 16\n",
            "Number of Cold temperatures: 16\n"
          ]
        }
      ]
    },
    {
      "cell_type": "code",
      "source": [
        "# Given temperature data in Celsius\n",
        "temperatures = [\n",
        "    8.2, 17.4, 14.1, 7.9, 18.0, 13.5, 9.0, 17.8, 13.0, 8.5,\n",
        "    16.5, 12.9, 7.7, 17.2, 13.3, 8.4, 16.7, 14.0, 9.5, 18.3,\n",
        "    13.4, 8.1, 17.9, 14.2, 7.6, 17.0, 12.8, 8.0, 16.8, 13.7,\n",
        "    7.8, 17.5, 13.6, 8.7, 17.1, 13.8, 9.2, 18.1, 13.9, 8.3,\n",
        "    16.4, 12.7, 8.9, 18.2, 13.1, 7.8, 16.6, 12.5\n",
        "]\n",
        "\n",
        "# Convert Celsius to Fahrenheit\n",
        "temperatures_fahrenheit = [(temp * 9/5) + 32 for temp in temperatures]\n",
        "\n",
        "# Print the Fahrenheit temperatures\n",
        "print(\"Temperatures in Fahrenheit:\", temperatures_fahrenheit)\n"
      ],
      "metadata": {
        "colab": {
          "base_uri": "https://localhost:8080/"
        },
        "id": "TGu_XR9CSzrK",
        "outputId": "92a6c8fe-5aea-4249-9a04-a896ad3767c9"
      },
      "execution_count": 3,
      "outputs": [
        {
          "output_type": "stream",
          "name": "stdout",
          "text": [
            "Temperatures in Fahrenheit: [46.76, 63.32, 57.379999999999995, 46.22, 64.4, 56.3, 48.2, 64.04, 55.4, 47.3, 61.7, 55.22, 45.86, 62.959999999999994, 55.94, 47.120000000000005, 62.059999999999995, 57.2, 49.1, 64.94, 56.120000000000005, 46.58, 64.22, 57.56, 45.68, 62.6, 55.04, 46.4, 62.24, 56.66, 46.04, 63.5, 56.48, 47.66, 62.78, 56.84, 48.56, 64.58, 57.02, 46.94, 61.519999999999996, 54.86, 48.02, 64.75999999999999, 55.58, 46.04, 61.88, 54.5]\n"
          ]
        }
      ]
    },
    {
      "cell_type": "code",
      "source": [
        "# Given temperature data (Celsius)\n",
        "temperatures = [\n",
        "    8.2, 17.4, 14.1, 7.9, 18.0, 13.5, 9.0, 17.8, 13.0, 8.5,\n",
        "    16.5, 12.9, 7.7, 17.2, 13.3, 8.4, 16.7, 14.0, 9.5, 18.3,\n",
        "    13.4, 8.1, 17.9, 14.2, 7.6, 17.0, 12.8, 8.0, 16.8, 13.7,\n",
        "    7.8, 17.5, 13.6, 8.7, 17.1, 13.8, 9.2, 18.1, 13.9, 8.3,\n",
        "    16.4, 12.7, 8.9, 18.2, 13.1, 7.8, 16.6, 12.5\n",
        "]\n",
        "\n",
        "# Create empty lists for night, evening, and day temperatures\n",
        "night = []\n",
        "evening = []\n",
        "day = []\n",
        "\n",
        "# Iterate over the temperatures list and assign each value to the correct time of day\n",
        "for i in range(len(temperatures)):\n",
        "    if i < 8:\n",
        "        night.append(temperatures[i])\n",
        "    elif i < 16:\n",
        "        evening.append(temperatures[i])\n",
        "    else:\n",
        "        day.append(temperatures[i])\n",
        "\n",
        "# Calculate the average temperature for the day (16:00 to 24:00)\n",
        "average_day_temperature = sum(day) / len(day)\n",
        "\n",
        "# Print the result\n",
        "print(f\"Average daytime temperature (16:00 to 24:00): {average_day_temperature:.2f}°C\")\n"
      ],
      "metadata": {
        "colab": {
          "base_uri": "https://localhost:8080/"
        },
        "id": "0JBYBooHSz2w",
        "outputId": "7cd2bc16-3779-4653-8f5e-75dcfb842010"
      },
      "execution_count": 4,
      "outputs": [
        {
          "output_type": "stream",
          "name": "stdout",
          "text": [
            "Average daytime temperature (16:00 to 24:00): 13.19°C\n"
          ]
        }
      ]
    },
    {
      "cell_type": "code",
      "source": [
        "def sum_nested_list(nested_list):\n",
        "    total = 0\n",
        "    for element in nested_list:\n",
        "        if isinstance(element, list):\n",
        "            total += sum_nested_list(element)\n",
        "        else:\n",
        "            total += element\n",
        "    return total\n",
        "\n",
        "# Test the function with the sample nested list\n",
        "nested_list = [1, [2, [3, 4], 5], 6, [7, 8]]\n",
        "print(sum_nested_list(nested_list))\n"
      ],
      "metadata": {
        "colab": {
          "base_uri": "https://localhost:8080/"
        },
        "id": "LFBQ-bvzTFYo",
        "outputId": "b8494b60-27c4-4c3e-c148-be4ab6bd4cb3"
      },
      "execution_count": 5,
      "outputs": [
        {
          "output_type": "stream",
          "name": "stdout",
          "text": [
            "36\n"
          ]
        }
      ]
    },
    {
      "cell_type": "code",
      "source": [
        "def generate_permutations(s):\n",
        "\n",
        "    if len(s) == 0:\n",
        "        return [\"\"]\n",
        "\n",
        "    permutations = []  # List to store all permutations\n",
        "    for i in range(len(s)):\n",
        "\n",
        "        part = s[:i] + s[i+1:]\n",
        "        for perm in generate_permutations(part):\n",
        "            permutations.append(s[i] + perm)\n",
        "\n",
        "    return permutations\n",
        "\n",
        "print(generate_permutations(\"abc\"))\n"
      ],
      "metadata": {
        "colab": {
          "base_uri": "https://localhost:8080/"
        },
        "id": "MiacZZRVTFuo",
        "outputId": "298a0865-1b2d-42ea-9f27-202425751dfd"
      },
      "execution_count": 6,
      "outputs": [
        {
          "output_type": "stream",
          "name": "stdout",
          "text": [
            "['abc', 'acb', 'bac', 'bca', 'cab', 'cba']\n"
          ]
        }
      ]
    },
    {
      "cell_type": "code",
      "source": [
        "def calculate_directory_size(directory):\n",
        "    total_size = 0  # Initialize total size\n",
        "\n",
        "    for item, size in directory.items():\n",
        "        if isinstance(size, dict):\n",
        "            total_size += calculate_directory_size(size)\n",
        "        else:\n",
        "            total_size += size\n",
        "\n",
        "    return total_size\n",
        "\n",
        "directory_structure = {\n",
        "    \"file1.txt\": 200,\n",
        "    \"file2.txt\": 300,\n",
        "    \"subdir1\": {\n",
        "        \"file3.txt\": 400,\n",
        "        \"file4.txt\": 100\n",
        "    },\n",
        "    \"subdir2\": {\n",
        "        \"subsubdir1\": {\n",
        "            \"file5.txt\": 250\n",
        "        },\n",
        "        \"file6.txt\": 150\n",
        "    }\n",
        "}\n",
        "\n",
        "# Test the function\n",
        "print(calculate_directory_size(directory_structure))\n"
      ],
      "metadata": {
        "colab": {
          "base_uri": "https://localhost:8080/"
        },
        "id": "i8jWfX6QSz7T",
        "outputId": "f213b118-4424-496c-f590-0cea7d45ce08"
      },
      "execution_count": 7,
      "outputs": [
        {
          "output_type": "stream",
          "name": "stdout",
          "text": [
            "1400\n"
          ]
        }
      ]
    },
    {
      "cell_type": "code",
      "source": [
        "def min_coins(coins, amount):\n",
        "    \"\"\"\n",
        "    Finds the minimum number of coins needed to make up the given amount.\n",
        "    If it's not possible, returns -1.\n",
        "\n",
        "    :param coins: List[int] - Available coin denominations\n",
        "    :param amount: int - Target amount\n",
        "    :return: int - Minimum number of coins needed, or -1 if not possible\n",
        "    \"\"\"\n",
        "    # Create a DP table to store the minimum coins for each amount.\n",
        "    # Initialize it with \"infinity\" (float('inf')), as we start assuming no solution.\n",
        "    dp = [float('inf')] * (amount + 1)\n",
        "    dp[0] = 0\n",
        "\n",
        "    # Loop through all amounts from 1 to the target amount.\n",
        "    for i in range(1, amount + 1):\n",
        "        for coin in coins:\n",
        "            if i >= coin:\n",
        "                dp[i] = min(dp[i], dp[i - coin] + 1)\n",
        "    return dp[amount] if dp[amount] != float('inf') else -1\n",
        "\n",
        "# Test case\n",
        "coins = [1, 2, 5]\n",
        "amount = 11\n",
        "\n",
        "# print the result.\n",
        "result = min_coins(coins, amount)\n",
        "print(result)\n"
      ],
      "metadata": {
        "colab": {
          "base_uri": "https://localhost:8080/"
        },
        "id": "t5cc4hdMSKh5",
        "outputId": "ac1a18c2-1453-4743-e6e9-cec312ad235b"
      },
      "execution_count": 8,
      "outputs": [
        {
          "output_type": "stream",
          "name": "stdout",
          "text": [
            "3\n"
          ]
        }
      ]
    },
    {
      "cell_type": "code",
      "source": [
        "def longest_common_subsequence(s1, s2):\n",
        "    \"\"\"\n",
        "    Finds the length of the longest common subsequence (LCS) of two strings.\n",
        "\n",
        "    :param s1: str - The first string\n",
        "    :param s2: str - The second string\n",
        "    :return: int - Length of the LCS\n",
        "    \"\"\"\n",
        "    # Lengths of the two strings\n",
        "    m, n = len(s1), len(s2)\n",
        "\n",
        "    # Create a 2D DP table initialized with 0s\n",
        "    dp = [[0] * (n + 1) for _ in range(m + 1)]\n",
        "\n",
        "    for i in range(1, m + 1):\n",
        "        for j in range(1, n + 1):\n",
        "            if s1[i - 1] == s2[j - 1]:\n",
        "                dp[i][j] = dp[i - 1][j - 1] + 1\n",
        "            else:\n",
        "                dp[i][j] = max(dp[i - 1][j], dp[i][j - 1])\n",
        "\n",
        "    return dp[m][n]\n",
        "\n",
        "# Test case\n",
        "s1 = \"abcde\"\n",
        "s2 = \"ace\"\n",
        "result = longest_common_subsequence(s1, s2)\n",
        "print(result)\n"
      ],
      "metadata": {
        "colab": {
          "base_uri": "https://localhost:8080/"
        },
        "id": "fd0ckFOceg0M",
        "outputId": "d10fa34d-c6b0-4d7d-f7f1-4c95c40223fc"
      },
      "execution_count": 9,
      "outputs": [
        {
          "output_type": "stream",
          "name": "stdout",
          "text": [
            "3\n"
          ]
        }
      ]
    },
    {
      "cell_type": "code",
      "source": [
        "def knapsack(weights, values, capacity):\n",
        "    # Initialize a DP array where dp[w] represents the max value with weight limit w\n",
        "    dp = [0] * (capacity + 1)\n",
        "\n",
        "    for i in range(len(weights)):\n",
        "        for w in range(capacity, weights[i] - 1, -1):\n",
        "            dp[w] = max(dp[w], dp[w - weights[i]] + values[i])\n",
        "\n",
        "    return dp[capacity]\n",
        "\n",
        "# Test case\n",
        "weights = [1, 3, 4, 5]\n",
        "values = [1, 4, 5, 7]\n",
        "capacity = 7\n",
        "result = knapsack(weights, values, capacity)\n",
        "print(\"Maximum value:\", result)\n"
      ],
      "metadata": {
        "colab": {
          "base_uri": "https://localhost:8080/"
        },
        "id": "MVqx3Yu9ewE1",
        "outputId": "3627a2c5-4815-4ec1-d419-3db975bc731a"
      },
      "execution_count": 10,
      "outputs": [
        {
          "output_type": "stream",
          "name": "stdout",
          "text": [
            "Maximum value: 9\n"
          ]
        }
      ]
    },
    {
      "cell_type": "markdown",
      "source": [],
      "metadata": {
        "id": "SIyocXcVSIeD"
      }
    }
  ]
}